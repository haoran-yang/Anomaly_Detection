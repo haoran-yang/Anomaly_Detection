{
 "cells": [
  {
   "cell_type": "code",
   "execution_count": 117,
   "metadata": {},
   "outputs": [],
   "source": [
    "import pandas as pd\n",
    "import numpy as np\n",
    "from scipy import stats\n",
    "from sklearn.preprocessing import MinMaxScaler\n",
    "from sklearn.model_selection import train_test_split\n",
    "import matplotlib.pyplot as plt\n",
    "import gc\n",
    "from sklearn.ensemble import IsolationForest\n",
    "from sklearn.neighbors import LocalOutlierFactor\n",
    "import warnings\n",
    "warnings.filterwarnings('ignore')"
   ]
  },
  {
   "cell_type": "markdown",
   "metadata": {},
   "source": [
    "1. 离群点检测: 训练数据包含离群点,即远离其它内围点。离群点检测估计器会尝试拟合出训练数据中内围点聚集的区域, 会忽略有偏离的观测值。\n",
    "2. 新奇点检测: 训练数据未被离群点污染，我们对新观测值是否为离群点感兴趣。在这个语境下，离群点被认为是新奇点。"
   ]
  },
  {
   "cell_type": "code",
   "execution_count": 2,
   "metadata": {},
   "outputs": [],
   "source": [
    "data = pd.read_csv('./creditcard.csv')"
   ]
  },
  {
   "cell_type": "code",
   "execution_count": 15,
   "metadata": {},
   "outputs": [],
   "source": [
    "y = data.pop('Class')"
   ]
  },
  {
   "cell_type": "code",
   "execution_count": 22,
   "metadata": {},
   "outputs": [],
   "source": [
    "y = y.values"
   ]
  },
  {
   "cell_type": "code",
   "execution_count": 17,
   "metadata": {},
   "outputs": [],
   "source": [
    "data = data.drop(columns='Time')"
   ]
  },
  {
   "cell_type": "code",
   "execution_count": 14,
   "metadata": {},
   "outputs": [],
   "source": [
    "# 归一化\n",
    "mms = MinMaxScaler()\n",
    "X = mms.fit_transform(data)"
   ]
  },
  {
   "cell_type": "code",
   "execution_count": 36,
   "metadata": {},
   "outputs": [
    {
     "name": "stdout",
     "output_type": "stream",
     "text": [
      "样本数:284807,特征数:29\n"
     ]
    }
   ],
   "source": [
    "print('样本数:%s,特征数:%s'%(len(X),X.shape[1]))"
   ]
  },
  {
   "cell_type": "code",
   "execution_count": 46,
   "metadata": {},
   "outputs": [],
   "source": [
    "# 训练集、测试集划分\n",
    "X_train, X_test, y_train, y_test = train_test_split(X,y,train_size=0.7,shuffle=True,stratify=y)"
   ]
  },
  {
   "cell_type": "code",
   "execution_count": 49,
   "metadata": {},
   "outputs": [
    {
     "data": {
      "text/plain": [
       "190"
      ]
     },
     "execution_count": 49,
     "metadata": {},
     "output_type": "execute_result"
    }
   ],
   "source": [
    "del data,X,y\n",
    "gc.collect()"
   ]
  },
  {
   "cell_type": "markdown",
   "metadata": {},
   "source": [
    "## IsolationForest"
   ]
  },
  {
   "cell_type": "markdown",
   "metadata": {},
   "source": [
    "- 孤立森林（也叫隔离森林）"
   ]
  },
  {
   "cell_type": "markdown",
   "metadata": {},
   "source": [
    "- 高维数据集适合使用此方法\n",
    "- 孤立森林通过随机选择一个特征,随机选择所选特征的最大值和最小值之间的分割值来\"隔离\"观测。  \n",
    "- 由于递归划分可以由树形结构表示，因此隔离样本所需的分割次数等同于从根节点到终止节点的路径长度。  \n",
    "- 在这样的随机树的森林中取平均的路径长度是数据正态性和我们的决策功能的量度。  \n",
    "- 随机划分能为异常观测产生明显的较短路径。因此，当随机树的森林共同地为特定样本产生较短的路径长度时，这些样本就很有可能是异常的。"
   ]
  },
  {
   "cell_type": "markdown",
   "metadata": {},
   "source": [
    "### 使用creditcard数据集"
   ]
  },
  {
   "cell_type": "code",
   "execution_count": 55,
   "metadata": {},
   "outputs": [],
   "source": [
    "Ilf_params = {\n",
    "    'n_estimators':200, \n",
    "    'max_samples':500, # 每个估计器用到的样本数。Int、float、\"auto\"(默认,min(256,n_samples))\n",
    "    'contamination':0.002,  # 异常值或离群点的占比。用于定义决策函数的阈值。\n",
    "    'max_features':0.8,  # 每个估计期用到的特征数。int或者float\n",
    "    'bootstrap':True, # False(default)：不放回抽样，True：单个树在随机子集上训练，且有放回。\n",
    "    'n_jobs':3, \n",
    "    'behaviour':'new', \n",
    "    'random_state':42, \n",
    "    'verbose':0, \n",
    "    'warm_start':True\n",
    "}"
   ]
  },
  {
   "cell_type": "code",
   "execution_count": 59,
   "metadata": {},
   "outputs": [],
   "source": [
    "Ilf = IsolationForest(**Ilf_params)"
   ]
  },
  {
   "cell_type": "code",
   "execution_count": 60,
   "metadata": {},
   "outputs": [
    {
     "data": {
      "text/plain": [
       "IsolationForest(behaviour='new', bootstrap=True, contamination=0.002,\n",
       "                max_features=0.8, max_samples=500, n_estimators=200, n_jobs=3,\n",
       "                random_state=42, verbose=0, warm_start=True)"
      ]
     },
     "execution_count": 60,
     "metadata": {},
     "output_type": "execute_result"
    }
   ],
   "source": [
    "# 训练\n",
    "Ilf.fit(X=X_train)"
   ]
  },
  {
   "cell_type": "code",
   "execution_count": 62,
   "metadata": {},
   "outputs": [],
   "source": [
    "# 预测\n",
    "train_pred = Ilf.predict(X_train)\n",
    "test_pred = Ilf.predict(X_test)"
   ]
  },
  {
   "cell_type": "code",
   "execution_count": 85,
   "metadata": {},
   "outputs": [
    {
     "data": {
      "text/plain": [
       "true  pred\n",
       "0     -1         293\n",
       "       1      198727\n",
       "1     -1         106\n",
       "       1         238\n",
       "dtype: int64"
      ]
     },
     "execution_count": 85,
     "metadata": {},
     "output_type": "execute_result"
    }
   ],
   "source": [
    "# 查看预测结果，1代表正常值，-1代表离群值\n",
    "# 训练集\n",
    "_=np.concatenate([y_train.reshape(-1,1),train_pred.reshape(-1,1)],axis=1)\n",
    "pd.DataFrame(_,columns=['true','pred']).groupby(['true','pred']).size()"
   ]
  },
  {
   "cell_type": "code",
   "execution_count": 92,
   "metadata": {
    "scrolled": true
   },
   "outputs": [
    {
     "data": {
      "text/plain": [
       "true  pred\n",
       "0     -1        127\n",
       "       1      85168\n",
       "1     -1         39\n",
       "       1        109\n",
       "dtype: int64"
      ]
     },
     "execution_count": 92,
     "metadata": {},
     "output_type": "execute_result"
    }
   ],
   "source": [
    "# 测试集\n",
    "_=np.concatenate([y_test.reshape(-1,1),test_pred.reshape(-1,1)],axis=1)\n",
    "pd.DataFrame(_,columns=['true','pred']).groupby(['true','pred']).size()"
   ]
  },
  {
   "cell_type": "markdown",
   "metadata": {},
   "source": [
    "### 使用自定义数据"
   ]
  },
  {
   "cell_type": "code",
   "execution_count": 94,
   "metadata": {},
   "outputs": [],
   "source": [
    "rng=np.random.RandomState(42)\n",
    "# 生成训练数据\n",
    "X=0.3*rng.randn(100,2) # 100条二维数据\n",
    "X_train=np.r_[X+2,X-2] # 200条数据（X+2,X-2）拼接而成\n",
    "\n",
    "X = 0.3 * rng.randn(20, 2)\n",
    "X_test = np.r_[X + 2, X - 2]\n",
    "# 基于分布生成一些观测正常的数据\n",
    "X_outliers=rng.uniform(low=-4,high=4,size=(20,2))"
   ]
  },
  {
   "cell_type": "code",
   "execution_count": 95,
   "metadata": {},
   "outputs": [
    {
     "name": "stderr",
     "output_type": "stream",
     "text": [
      "D:\\Anaconda3\\lib\\site-packages\\sklearn\\ensemble\\iforest.py:274: UserWarning: max_samples (500) is greater than the total number of samples (200). max_samples will be set to n_samples for estimation.\n",
      "  % (self.max_samples, n_samples))\n"
     ]
    },
    {
     "data": {
      "text/plain": [
       "IsolationForest(behaviour='new', bootstrap=True, contamination=0.002,\n",
       "                max_features=0.8, max_samples=500, n_estimators=200, n_jobs=3,\n",
       "                random_state=42, verbose=0, warm_start=True)"
      ]
     },
     "execution_count": 95,
     "metadata": {},
     "output_type": "execute_result"
    }
   ],
   "source": [
    "# 训练\n",
    "rlf=IsolationForest(**Ilf_params)\n",
    "rlf.fit(X_train)"
   ]
  },
  {
   "cell_type": "code",
   "execution_count": 96,
   "metadata": {},
   "outputs": [],
   "source": [
    "# 预测\n",
    "y_pred_train=rlf.predict(X_train)\n",
    "y_pred_test=rlf.predict(X_test)\n",
    "y_pred_outliers = rlf.predict(X_outliers)"
   ]
  },
  {
   "cell_type": "code",
   "execution_count": 116,
   "metadata": {},
   "outputs": [
    {
     "data": {
      "image/png": "[encoded data removed]",
      "text/plain": [
       "<Figure size 1008x720 with 4 Axes>"
      ]
     },
     "metadata": {
      "needs_background": "light"
     },
     "output_type": "display_data"
    }
   ],
   "source": [
    "# 画图\n",
    "plt.figure(figsize=(14,10))\n",
    "plt.subplot(2,2,1)\n",
    "xx, yy = np.meshgrid(np.linspace(-5, 5, 50), np.linspace(-5, 5, 50))\n",
    "Z = rlf.decision_function(np.c_[xx.ravel(), yy.ravel()])\n",
    "Z = Z.reshape(xx.shape)\n",
    "\n",
    "plt.contourf(xx, yy, Z, cmap=plt.cm.Blues_r)\n",
    "\n",
    "b1 = plt.scatter(X_train[:, 0], X_train[:, 1], c='white',\n",
    "                 s=20, edgecolor='k')\n",
    "b2 = plt.scatter(X_test[:, 0], X_test[:, 1], c='green',\n",
    "                 s=20, edgecolor='k')\n",
    "c = plt.scatter(X_outliers[:, 0], X_outliers[:, 1], c='red',\n",
    "                s=20, edgecolor='k')\n",
    "plt.title('Original')\n",
    "plt.axis('tight')\n",
    "plt.xlim((-5, 5))\n",
    "plt.ylim((-5, 5))\n",
    "plt.legend([b1, b2, c],[\"training data\",\"test data\", \"new abnormal data\"],loc=\"upper left\")\n",
    "\n",
    "n = 2\n",
    "for x,x_pred,title in zip([X_train,X_test,X_outliers],[y_pred_train,y_pred_test,y_pred_outliers],['trian','test','outliers']):\n",
    "    plt.subplot(2,2,n)\n",
    "    xx, yy = np.meshgrid(np.linspace(-5, 5, 50), np.linspace(-5, 5, 50))\n",
    "    Z = rlf.decision_function(np.c_[xx.ravel(), yy.ravel()])\n",
    "    Z = Z.reshape(xx.shape)\n",
    "\n",
    "    plt.contourf(xx, yy, Z, cmap=plt.cm.Blues_r)\n",
    "\n",
    "    b1 = plt.scatter(x[x_pred==1][:, 0], x[x_pred==1][:, 1], c='white',\n",
    "                     s=20, edgecolor='k')\n",
    "    c = plt.scatter(x[x_pred==-1][:, 0], x[x_pred==-1][:, 1], c='red',\n",
    "                    s=20, edgecolor='k')\n",
    "    plt.title('%s predict'%title)\n",
    "    plt.axis('tight')\n",
    "    plt.xlim((-5, 5))\n",
    "    plt.ylim((-5, 5))\n",
    "    plt.legend([b1, b2, c],[\"normal data\",\"abnormal data\"],loc=\"upper left\")\n",
    "    n+=1"
   ]
  },
  {
   "cell_type": "markdown",
   "metadata": {},
   "source": [
    "## Local Outlier Factor\n",
    "- 局部离群因子"
   ]
  },
  {
   "cell_type": "markdown",
   "metadata": {},
   "source": [
    "- 适合轻度高维数据集\n",
    "- 计算出反映观测异常程度的得分（称为局部离群因子）\n",
    "- 它测量给定数据点相对于其邻近点的局部密度偏差。算法思想是检测出具有比其邻近点明显更低密度的样本\n",
    "- 局部密度从k个最近邻得到。观测数据的LOF得分=其k个最近邻的平均局部密度与其本身密度的比值：正常情况预期与其近邻有着类似的局部密度，而异常数据则预计比近邻的局部密度要小得多。\n",
    "- LOF算法的优点是考虑到数据集的局部和全局属性：即使在具有不同潜在密度的离群点数据集中，它也能够表现得很好。问题不在于样本是如何被分离的，而是样本与周围近邻的分离程度有多大"
   ]
  },
  {
   "cell_type": "code",
   "execution_count": 268,
   "metadata": {},
   "outputs": [],
   "source": [
    "lof_param ={'n_neighbors':20,  # 近邻样本数。当离群点的比例较高时（大于10%时），n_neighbors应该较大\n",
    "            'algorithm':'auto', # ball_tree、kd_tree、brute、out(default,自动选择)\n",
    "            'leaf_size':30, \n",
    "            'metric':'minkowski', \n",
    "            'p':2, \n",
    "            'metric_params':None, \n",
    "            'contamination':0.2, # 异常样本比例\n",
    "            'novelty':False,  # 是否新奇点检测。默认False\n",
    "            'n_jobs':3}"
   ]
  },
  {
   "cell_type": "code",
   "execution_count": 149,
   "metadata": {},
   "outputs": [],
   "source": [
    "rng = np.random.RandomState(42)\n",
    "X = 0.3 * rng.randn(n_inliers // 2, 2)\n",
    "X_train = np.r_[X + 2, X - 2]   #正常样本\n",
    "X_train = np.r_[X_train, np.random.uniform(low=-6, high=6, size=(n_outliers, 2))] # 增加离群样本"
   ]
  },
  {
   "cell_type": "code",
   "execution_count": 137,
   "metadata": {},
   "outputs": [],
   "source": [
    "n_samples = 200  #样本总数\n",
    "outliers_fraction = 0.2  #异常样本比例\n",
    "n_inliers = int((1. - outliers_fraction) * n_samples) # 正常样本数\n",
    "n_outliers = int(outliers_fraction * n_samples) #异常样本数"
   ]
  },
  {
   "cell_type": "markdown",
   "metadata": {},
   "source": [
    "- 当novelty参数被设为True时，要当心。在新的未见过的数据上，你只能使用predict, decision_function和score_samples ，而不能把这几个函数用在训练数据上，否则会导致错误的结果。\n",
    "- 进行离群点检测的时候（novelty为False），不能使用predict, decisionfunction 和 score_samples 方法，只能使用 fit_predict 方法"
   ]
  },
  {
   "cell_type": "code",
   "execution_count": 138,
   "metadata": {},
   "outputs": [
    {
     "name": "stderr",
     "output_type": "stream",
     "text": [
      "D:\\Anaconda3\\lib\\site-packages\\scipy\\stats\\stats.py:1713: FutureWarning: Using a non-tuple sequence for multidimensional indexing is deprecated; use `arr[tuple(seq)]` instead of `arr[seq]`. In the future this will be interpreted as an array index, `arr[np.array(seq)]`, which will result either in an error or a different result.\n",
      "  return np.add.reduce(sorted[indexer] * weights, axis=axis) / sumval\n"
     ]
    }
   ],
   "source": [
    "# 训练模型并确立阈值\n",
    "clf = LocalOutlierFactor(**lof_param)\n",
    "y_pred = clf.fit_predict(X_train)\n",
    "scores_pred = clf.negative_outlier_factor_  # 异常得分，绝对值越大越异常\n",
    "threshold = stats.scoreatpercentile(scores_pred, 100 * 0.2)  # 根据异常样本比例，得到阈值，用于绘图"
   ]
  },
  {
   "cell_type": "code",
   "execution_count": 150,
   "metadata": {},
   "outputs": [
    {
     "name": "stdout",
     "output_type": "stream",
     "text": [
      "threshold is -1.748304645236958\n"
     ]
    }
   ],
   "source": [
    "print('threshold is %s'%threshold)"
   ]
  },
  {
   "cell_type": "code",
   "execution_count": 143,
   "metadata": {},
   "outputs": [
    {
     "data": {
      "text/plain": [
       "<matplotlib.legend.Legend at 0xcab7780>"
      ]
     },
     "execution_count": 143,
     "metadata": {},
     "output_type": "execute_result"
    },
    {
     "data": {
      "image/png": "[encoded data removed]",
      "text/plain": [
       "<Figure size 432x288 with 1 Axes>"
      ]
     },
     "metadata": {
      "needs_background": "light"
     },
     "output_type": "display_data"
    }
   ],
   "source": [
    "# 绘图\n",
    "xx, yy = np.meshgrid(np.linspace(-7, 7, 50), np.linspace(-7, 7, 50))\n",
    "Z = clf._decision_function(np.c_[xx.ravel(), yy.ravel()])\n",
    "Z = Z.reshape(xx.shape)\n",
    "plt.title(\"Local Outlier Factor\")\n",
    "\n",
    "plt.contourf(xx, yy, Z, levels=np.linspace(Z.min(), threshold, 7), cmap=plt.cm.Blues_r)  # 绘制异常点区域\n",
    "a = plt.contour(xx, yy, Z, levels=[threshold], linewidths=2, colors='red')  # 绘制边界\n",
    "plt.contourf(xx, yy, Z, levels=[threshold, Z.max()], colors='palevioletred')  # 绘制正常点区域\n",
    "\n",
    "b = plt.scatter(X_train[:-n_outliers, 0], X_train[:-n_outliers, 1], c='white',\n",
    "                    s=20, edgecolor='k')\n",
    "c = plt.scatter(X_train[-n_outliers:, 0], X_train[-n_outliers:, 1], c='black',\n",
    "                    s=20, edgecolor='k')\n",
    "plt.axis('tight')\n",
    "plt.xlim((-7, 7))\n",
    "plt.ylim((-7, 7))\n",
    "plt.legend([a.collections[0], b, c],['decision function', 'true inliers', 'true outliers'],loc=\"upper left\")"
   ]
  },
  {
   "cell_type": "markdown",
   "metadata": {},
   "source": [
    "## 高斯异常检测"
   ]
  },
  {
   "cell_type": "markdown",
   "metadata": {},
   "source": [
    "适用于简单的离群点检测，要求数据服从高斯分布。在训练集上训练高斯模型，无需异常标签，验证集上调节参数和确定阈值，需要有异常标签。"
   ]
  },
  {
   "cell_type": "markdown",
   "metadata": {},
   "source": [
    "### 二元"
   ]
  },
  {
   "cell_type": "code",
   "execution_count": 175,
   "metadata": {},
   "outputs": [],
   "source": [
    "import scipy.io as sio"
   ]
  },
  {
   "cell_type": "code",
   "execution_count": 176,
   "metadata": {},
   "outputs": [],
   "source": [
    "data=sio.loadmat('./ex8data1.mat')"
   ]
  },
  {
   "cell_type": "code",
   "execution_count": 178,
   "metadata": {},
   "outputs": [
    {
     "data": {
      "text/plain": [
       "dict_keys(['__header__', '__version__', '__globals__', 'X', 'Xval', 'yval'])"
      ]
     },
     "execution_count": 178,
     "metadata": {},
     "output_type": "execute_result"
    }
   ],
   "source": [
    "data.keys()"
   ]
  },
  {
   "cell_type": "code",
   "execution_count": 179,
   "metadata": {},
   "outputs": [],
   "source": [
    "# 训练集构建高斯模型，验证集确立阈值\n",
    "X = data.get('X')\n",
    "X_val = data.get('Xval')\n",
    "y_val = data.get('yval').ravel()"
   ]
  },
  {
   "cell_type": "code",
   "execution_count": 194,
   "metadata": {
    "scrolled": true
   },
   "outputs": [
    {
     "data": {
      "text/plain": [
       "<matplotlib.collections.PathCollection at 0xd9f9978>"
      ]
     },
     "execution_count": 194,
     "metadata": {},
     "output_type": "execute_result"
    },
    {
     "data": {
      "image/png": "[encoded data removed]",
      "text/plain": [
       "<Figure size 720x288 with 2 Axes>"
      ]
     },
     "metadata": {
      "needs_background": "light"
     },
     "output_type": "display_data"
    }
   ],
   "source": [
    "plt.figure(figsize=(10,4))\n",
    "plt.subplot(1,2,1)\n",
    "plt.title('Train')\n",
    "plt.scatter(X[:,0],X[:,1])\n",
    "plt.subplot(1,2,2)\n",
    "plt.title('Val')\n",
    "plt.scatter(X_val[y_val==0][:,0],X_val[y_val==0][:,1])\n",
    "plt.scatter(X_val[y_val==1][:,0],X_val[y_val==1][:,1])"
   ]
  },
  {
   "cell_type": "code",
   "execution_count": 195,
   "metadata": {},
   "outputs": [],
   "source": [
    "# 计算均值和方差\n",
    "def estimate_gaussian(X):\n",
    "    mu = X.mean(axis=0)\n",
    "    sigma = X.var(axis=0)\n",
    "    return mu, sigma"
   ]
  },
  {
   "cell_type": "code",
   "execution_count": 207,
   "metadata": {},
   "outputs": [],
   "source": [
    "mu, sigma = estimate_gaussian(X)"
   ]
  },
  {
   "cell_type": "code",
   "execution_count": 219,
   "metadata": {},
   "outputs": [],
   "source": [
    "# 1.计算训练集概率密度函数值\n",
    "p = np.zeros((X.shape[0], X.shape[1]))\n",
    "p[:,0] = stats.norm(mu[0], sigma[0]).pdf(X[:,0])\n",
    "p[:,1] = stats.norm(mu[1], sigma[1]).pdf(X[:,1])\n",
    "# 2.计算验证集概率密度函数值\n",
    "p_val = np.zeros((X_val.shape[0], X_val.shape[1]))\n",
    "p_val[:,0] = stats.norm(mu[0], sigma[0]).pdf(X_val[:,0])\n",
    "p_val[:,1] = stats.norm(mu[1], sigma[1]).pdf(X_val[:,1])"
   ]
  },
  {
   "cell_type": "code",
   "execution_count": 255,
   "metadata": {},
   "outputs": [],
   "source": [
    "# 验证集上选取阈值\n",
    "def select_threshold(pval, yval):\n",
    "    best_epsilon = 0\n",
    "    best_f1 = 0\n",
    "    f1 = 0\n",
    "    step = (pval.max() - pval.min()) / 1000 # 设置步长\n",
    "    for epsilon in np.arange(pval.min(), pval.max(), step):\n",
    "        preds = pval < epsilon\n",
    "        tp = np.sum(np.logical_and(preds == 1, yval == 1)).astype(float) # 真正类\n",
    "        fp = np.sum(np.logical_and(preds == 1, yval == 0)).astype(float) # 假正类\n",
    "        fn = np.sum(np.logical_and(preds == 0, yval == 1)).astype(float) # 假负类\n",
    "        precision = tp / (tp + fp) # 计算精度\n",
    "        recall = tp / (tp + fn) # 计算召回率\n",
    "        f1 = (2 * precision * recall) / (precision + recall) # 计算f1 score\n",
    "        # 确定使f1最大化的阈值\n",
    "        if f1 > best_f1:\n",
    "            best_f1 = f1\n",
    "            best_epsilon = epsilon \n",
    "    return best_epsilon, best_f1"
   ]
  },
  {
   "cell_type": "code",
   "execution_count": 240,
   "metadata": {},
   "outputs": [
    {
     "name": "stdout",
     "output_type": "stream",
     "text": [
      "best threshold is 0.009566706005956842 \n",
      " best f1 score is 0.7142857142857143\n"
     ]
    }
   ],
   "source": [
    "# 最佳阈值和最大f1\n",
    "epsilon, f1 = select_threshold(pval=p_val, yval=y_val.reshape((-1,1)))\n",
    "print('best threshold is %s \\n best f1 score is %s'%(epsilon, f1))"
   ]
  },
  {
   "cell_type": "code",
   "execution_count": 234,
   "metadata": {},
   "outputs": [],
   "source": [
    "# 异常点划分\n",
    "train_outliers = np.where(p< epsilon)\n",
    "val_outliers = np.where(p_val< epsilon)"
   ]
  },
  {
   "cell_type": "code",
   "execution_count": 235,
   "metadata": {},
   "outputs": [
    {
     "data": {
      "text/plain": [
       "<matplotlib.collections.PathCollection at 0xdedb320>"
      ]
     },
     "execution_count": 235,
     "metadata": {},
     "output_type": "execute_result"
    },
    {
     "data": {
      "image/png": "[encoded data removed]",
      "text/plain": [
       "<Figure size 1080x288 with 3 Axes>"
      ]
     },
     "metadata": {
      "needs_background": "light"
     },
     "output_type": "display_data"
    }
   ],
   "source": [
    "# 结果展示\n",
    "plt.figure(figsize=(15,4))\n",
    "plt.subplot(1,3,1)\n",
    "plt.title('Train_pred')\n",
    "plt.scatter(X[:,0],X[:,1])\n",
    "plt.scatter(X[train_outliers[0],0],X[train_outliers[0],1])\n",
    "plt.subplot(1,3,2)\n",
    "plt.title('Val_true')\n",
    "plt.scatter(X_val[y_val==0][:,0],X_val[y_val==0][:,1])\n",
    "plt.scatter(X_val[y_val==1][:,0],X_val[y_val==1][:,1])\n",
    "plt.subplot(1,3,3)\n",
    "plt.title('Val_pred')\n",
    "plt.scatter(X_val[:,0],X_val[:,1])\n",
    "plt.scatter(X_val[val_outliers,0],X_val[val_outliers,1])"
   ]
  },
  {
   "cell_type": "markdown",
   "metadata": {},
   "source": [
    "### 多元"
   ]
  },
  {
   "cell_type": "code",
   "execution_count": 246,
   "metadata": {},
   "outputs": [],
   "source": [
    "from sklearn.metrics import f1_score, classification_report"
   ]
  },
  {
   "cell_type": "code",
   "execution_count": 266,
   "metadata": {},
   "outputs": [],
   "source": [
    "def select_threshold2(X, Xval, yval):\n",
    "    # 训练集创建模型\n",
    "    mu = X.mean(axis=0)\n",
    "    cov = np.cov(X.T)\n",
    "    multi_normal = stats.multivariate_normal(mu, cov)\n",
    "    # 验证集调参\n",
    "    pval = multi_normal.pdf(Xval)\n",
    "    epsilon = np.linspace(np.min(pval), np.max(pval), num=10000)\n",
    "    # 计算f1 score\n",
    "    fs = []\n",
    "    for e in epsilon:\n",
    "        y_pred = (pval <= e).astype('int')\n",
    "        fs.append(f1_score(yval, y_pred))\n",
    "    # f1 score最大值\n",
    "    argmax_fs = np.argmax(fs)\n",
    "    return epsilon[argmax_fs], fs[argmax_fs]"
   ]
  },
  {
   "cell_type": "code",
   "execution_count": 267,
   "metadata": {},
   "outputs": [],
   "source": [
    "def predict(X, Xval, e, Xtest, ytest):\n",
    "    \"\"\"用训练集和验证集构建高斯模型，在测试集上预测，使用阈值e划分异常样本并打印效果\n",
    "    Returns:\n",
    "        multi_normal: 多元高斯模型\n",
    "        y_pred: 预测结果\n",
    "    \"\"\"\n",
    "    Xdata = np.concatenate((X, Xval), axis=0)\n",
    "    mu = Xdata.mean(axis=0)\n",
    "    cov = np.cov(Xdata.T)\n",
    "    multi_normal = stats.multivariate_normal(mu, cov)\n",
    "    # 计算测试集概率密度\n",
    "    pval = multi_normal.pdf(Xtest)\n",
    "    y_pred = (pval <= e).astype('int')\n",
    "    print(classification_report(ytest, y_pred))\n",
    "    return multi_normal, y_pred"
   ]
  },
  {
   "cell_type": "code",
   "execution_count": 243,
   "metadata": {},
   "outputs": [],
   "source": [
    "data2=sio.loadmat('./ex8data2.mat')"
   ]
  },
  {
   "cell_type": "code",
   "execution_count": 244,
   "metadata": {},
   "outputs": [],
   "source": [
    "X = data2.get('X')\n",
    "X_val = data2.get('Xval')\n",
    "y_val = data2.get('yval').ravel()"
   ]
  },
  {
   "cell_type": "code",
   "execution_count": 259,
   "metadata": {},
   "outputs": [],
   "source": [
    "Xval, Xtest, yval, ytest = train_test_split(X_val,y_val,test_size=0.4)"
   ]
  },
  {
   "cell_type": "code",
   "execution_count": 260,
   "metadata": {},
   "outputs": [],
   "source": [
    "e, f = select_threshold2(X, Xval, yval.reshape((-1,1)))"
   ]
  },
  {
   "cell_type": "code",
   "execution_count": 261,
   "metadata": {},
   "outputs": [
    {
     "name": "stdout",
     "output_type": "stream",
     "text": [
      "              precision    recall  f1-score   support\n",
      "\n",
      "           0       0.97      0.97      0.97        35\n",
      "           1       0.80      0.80      0.80         5\n",
      "\n",
      "    accuracy                           0.95        40\n",
      "   macro avg       0.89      0.89      0.89        40\n",
      "weighted avg       0.95      0.95      0.95        40\n",
      "\n"
     ]
    }
   ],
   "source": [
    "multi_normal, y_pred = predict(X, Xval, e, Xtest, ytest)"
   ]
  },
  {
   "cell_type": "code",
   "execution_count": null,
   "metadata": {},
   "outputs": [],
   "source": []
  },
  {
   "cell_type": "code",
   "execution_count": null,
   "metadata": {},
   "outputs": [],
   "source": []
  }
 ],
 "metadata": {
  "hide_input": false,
  "kernelspec": {
   "display_name": "Python 3",
   "language": "python",
   "name": "python3"
  },
  "language_info": {
   "codemirror_mode": {
    "name": "ipython",
    "version": 3
   },
   "file_extension": ".py",
   "mimetype": "text/x-python",
   "name": "python",
   "nbconvert_exporter": "python",
   "pygments_lexer": "ipython3",
   "version": "3.7.0"
  },
  "toc": {
   "base_numbering": 1,
   "nav_menu": {},
   "number_sections": true,
   "sideBar": true,
   "skip_h1_title": false,
   "title_cell": "Table of Contents",
   "title_sidebar": "Contents",
   "toc_cell": false,
   "toc_position": {
    "height": "calc(100% - 180px)",
    "left": "10px",
    "top": "150px",
    "width": "366.391px"
   },
   "toc_section_display": true,
   "toc_window_display": true
  },
  "varInspector": {
   "cols": {
    "lenName": 16,
    "lenType": 16,
    "lenVar": 40
   },
   "kernels_config": {
    "python": {
     "delete_cmd_postfix": "",
     "delete_cmd_prefix": "del ",
     "library": "var_list.py",
     "varRefreshCmd": "print(var_dic_list())"
    },
    "r": {
     "delete_cmd_postfix": ") ",
     "delete_cmd_prefix": "rm(",
     "library": "var_list.r",
     "varRefreshCmd": "cat(var_dic_list()) "
    }
   },
   "position": {
    "height": "243px",
    "left": "905px",
    "right": "20px",
    "top": "59px",
    "width": "787px"
   },
   "types_to_exclude": [
    "module",
    "function",
    "builtin_function_or_method",
    "instance",
    "_Feature"
   ],
   "window_display": false
  }
 },
 "nbformat": 4,
 "nbformat_minor": 2
}
